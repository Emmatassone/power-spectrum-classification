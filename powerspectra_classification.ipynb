{
 "cells": [
  {
   "cell_type": "code",
   "execution_count": 31,
   "id": "2e59a18a-d069-446b-91a6-87c47c6bab0b",
   "metadata": {},
   "outputs": [],
   "source": [
    "\"\"\" ***************************************************************************\n",
    "# * File Description:                                                         *\n",
    "# * Workflow for model building                                               *\n",
    "# * --------------------------------------------------------------------------*\n",
    "# * AUTHORS(S): Frank Ceballos <frank.ceballos89@gmail.com>                   *\n",
    "# * --------------------------------------------------------------------------*\n",
    "# * DATE CREATED: June 26, 2019                                               *\n",
    "# * --------------------------------------------------------------------------*\n",
    "# * NOTES: None                                                               *\n",
    "# * ************************************************************************\"\"\"\n",
    "\n",
    "###############################################################################\n",
    "#                          1. Importing Libraries                             #\n",
    "###############################################################################\n",
    "# Visual bar for data generation\n",
    "from tqdm.notebook import tqdm\n",
    "import pickle\n",
    "import os\n",
    "\n",
    "# For reading, visualizing, and preprocessing data\n",
    "import numpy as np\n",
    "import pandas as pd\n",
    "import seaborn as sns\n",
    "import matplotlib.pyplot as plt\n",
    "from datetime import datetime, timedelta\n",
    "from sklearn.datasets import make_classification\n",
    "from sklearn.feature_selection import RFE, RFECV\n",
    "from sklearn.model_selection import train_test_split, GridSearchCV, KFold\n",
    "from sklearn.preprocessing import StandardScaler\n",
    "from sklearn.pipeline import Pipeline\n",
    "\n",
    "# Metrics\n",
    "from sklearn import metrics\n",
    "from sklearn.metrics import r2_score\n",
    "from sklearn.metrics import mean_squared_error\n",
    "\n",
    "# Classifiers\n",
    "from sklearn.ensemble import RandomForestClassifier\n",
    "from sklearn.neighbors import KNeighborsClassifier\n",
    "from sklearn.naive_bayes import GaussianNB\n",
    "\n",
    "#Binning function\n",
    "def rebin_PS(df,bin_factor):\n",
    "    # Calculate the averages for each bin\n",
    "    rebinned_df= df.groupby(df.index // bin_factor).mean()\n",
    "    return rebinned_df"
   ]
  },
  {
   "cell_type": "code",
   "execution_count": 39,
   "id": "c55b0253-4ac2-4dd3-8de8-a1143612edb2",
   "metadata": {},
   "outputs": [],
   "source": [
    "path_dataset='Observations'\n",
    "variables={'freq':[],'power':[],'error':[],'BH?':[]}\n",
    "data=pd.DataFrame(variables)\n",
    "\n",
    "bin_factor=30\n",
    "\n",
    "for observation in os.listdir('Observations'):\n",
    "    temp_df=pd.read_fwf(path_dataset+'/'+observation,skiprows=12, names=('freq','power','error'))\n",
    "    temp_df=rebin_PS(temp_df, bin_factor)\n",
    "    if observation!='95324-01-02-00_FS4f_E_125.asc':\n",
    "        temp_df['BH?']=1\n",
    "    else:\n",
    "        temp_df['BH?']=0\n",
    "    \n",
    "    data=pd.concat((data , temp_df), axis = 0,ignore_index=True)"
   ]
  },
  {
   "cell_type": "code",
   "execution_count": 41,
   "id": "165349a8-163b-482c-8209-64a404aba3cb",
   "metadata": {},
   "outputs": [],
   "source": [
    "x = data[['freq','power']]\n",
    "y = data[['BH?']]\n",
    "X_train, X_test, y_train, y_test = train_test_split(x, y, test_size = 0.20, random_state = 1000)"
   ]
  },
  {
   "cell_type": "code",
   "execution_count": 42,
   "id": "5d4cf364-9d57-4340-ba3c-6d0eb4c738e3",
   "metadata": {},
   "outputs": [],
   "source": [
    "###############################################################################\n",
    "#                               4. Classifiers                                #\n",
    "###############################################################################\n",
    "# Create list of tuples with classifier label and classifier object\n",
    "classifiers = {}\n",
    "classifiers.update({\"Random Forest\": RandomForestClassifier()})\n",
    "classifiers.update({\"K-Nearest Neighbors\": KNeighborsClassifier()})\n",
    "classifiers.update({\"Naives Bayes\": GaussianNB()})\n",
    "\n",
    "###############################################################################\n",
    "#                             5. Hyper-parameters                             #\n",
    "###############################################################################\n",
    "# Initiate parameter grid\n",
    "parameters = {}\n",
    "\n",
    "# Update dict with K-Nearest Neighbors Classifier\n",
    "parameters.update({\"K-Nearest Neighbors\": {\n",
    "                            \"classifier__n_neighbors\": [5, 10, 50, 100, 500],\n",
    "                            \"classifier__algorithm\": ['auto','ball_tree','kd_tree','brute'],\n",
    "}})\n",
    "\n",
    "# Update dict with Naives Bayes\n",
    "parameters.update({\"Naives Bayes\": { \n",
    "\n",
    "}})\n",
    "\n",
    "# Update dict with Random Forest Parameters\n",
    "parameters.update({\"Random Forest\": { \n",
    "                                    \"classifier__n_estimators\": [50, 150, 300, 500],\n",
    "                                    \"classifier__criterion\" :[\"gini\", \"entropy\", \"log_loss\"],\n",
    "                                    \"classifier__max_depth\" : [3, 5, 7, 8],\n",
    "                                    \"classifier__min_samples_split\": [0.005, 0.01, 0.05],\n",
    "                                    \"classifier__min_samples_leaf\": [0.005, 0.01, 0.05],\n",
    "                                    \"classifier__max_features\": [\"sqrt\",\"log2\", None],\n",
    "                                    \"classifier__n_jobs\": [-1]\n",
    "                                     }})\n"
   ]
  },
  {
   "cell_type": "code",
   "execution_count": 43,
   "id": "d3fd327e-9950-4b31-8964-2e162a5e7814",
   "metadata": {
    "tags": []
   },
   "outputs": [
    {
     "name": "stdout",
     "output_type": "stream",
     "text": [
      "Now tuning Random Forest.\n",
      "Fitting 5 folds for each of 1296 candidates, totalling 6480 fits\n",
      "Model Random Forest had an error, skipping.\n",
      "Now tuning K-Nearest Neighbors.\n",
      "Fitting 5 folds for each of 20 candidates, totalling 100 fits\n",
      "Finished K-Nearest Neighbors training\n",
      "Now tuning Naives Bayes.\n",
      "Fitting 5 folds for each of 1 candidates, totalling 5 fits\n",
      "Finished Naives Bayes training\n",
      "Complete!\n"
     ]
    }
   ],
   "source": [
    "###############################################################################\n",
    "#                       13. Classifier Tuning and Evaluation                  #\n",
    "###############################################################################\n",
    "# Initialize dictionary to store results\n",
    "results = {}\n",
    "# num_models = 0\n",
    "\n",
    "# Tune and evaluate classifiers\n",
    "for classifier_label, classifier in classifiers.items():\n",
    "    # Print message to user\n",
    "    print(f\"Now tuning {classifier_label}.\")\n",
    "    \n",
    "    try:\n",
    "        # Scale features via Z-score normalization\n",
    "#         scaler = StandardScaler()\n",
    "\n",
    "        # Define steps in pipeline\n",
    "#         steps = [(\"scaler\", scaler), (\"classifier\", classifier)]\n",
    "        steps = [(\"classifier\", classifier)]\n",
    "\n",
    "        # Initialize Pipeline object\n",
    "        pipeline = Pipeline(steps = steps)\n",
    "\n",
    "        # Define parameter grid\n",
    "        param_grid = parameters[classifier_label]\n",
    "\n",
    "        # Initialize GridSearch object\n",
    "        gscv = GridSearchCV(pipeline, param_grid, cv = 5,  n_jobs= 4, verbose = 1, scoring = \"r2\")\n",
    "\n",
    "        # Fit gscv\n",
    "        gscv.fit(X_train, np.ravel(y_train))  \n",
    "\n",
    "        # Get best parameters and score\n",
    "        best_params = gscv.best_params_\n",
    "        best_score = gscv.best_score_\n",
    "\n",
    "        # Update classifier parameters and define new pipeline with tuned classifier\n",
    "        tuned_params = {item[12:]: best_params[item] for item in best_params}\n",
    "        classifier.set_params(**tuned_params)\n",
    "\n",
    "        # Make predictions\n",
    "        y_pred = gscv.predict(X_test)\n",
    "    \n",
    "        # Evaluate model\n",
    "#         auc = metrics.roc_auc_score(y_test, y_pred)\n",
    "#         r2 = gscv.score(y_test, y_pred)\n",
    "        r2 = r2_score(y_test, y_pred)\n",
    "        mse = mean_squared_error(y_test, y_pred)\n",
    "\n",
    "        # Save results\n",
    "        result = {\"Classifier\": gscv,\n",
    "                  \"Best Parameters\": best_params,\n",
    "                  \"Training AUC\": best_score,\n",
    "                  \"Test AUC\": r2,\n",
    "                  \"Test MSE\": mse}\n",
    "\n",
    "        results.update({classifier_label: result})\n",
    "        print(\"Finished {} training\".format(classifier_label))\n",
    "    except:\n",
    "        print(\"Model {} had an error, skipping.\".format(classifier_label))\n",
    "            \n",
    "print(\"Complete!\")"
   ]
  },
  {
   "cell_type": "code",
   "execution_count": 44,
   "id": "e61d2200-0407-4ce1-a944-0b3c876a59e4",
   "metadata": {},
   "outputs": [
    {
     "data": {
      "image/png": "[encoded data removed]",
      "text/plain": [
       "<Figure size 864x648 with 1 Axes>"
      ]
     },
     "metadata": {
      "needs_background": "light"
     },
     "output_type": "display_data"
    }
   ],
   "source": [
    "###############################################################################\n",
    "#                              14. Visualing Results                          #\n",
    "###############################################################################\n",
    "# Initialize auc_score dictionary\n",
    "auc_scores = {\n",
    "              \"Classifier\": [],\n",
    "              \"R2\": [],\n",
    "              \"Data type\": []\n",
    "              }\n",
    "\n",
    "# Get AUC scores into dictionary\n",
    "for classifier_label in results:\n",
    "    auc_scores.update({\"Classifier\": [classifier_label] + auc_scores[\"Classifier\"],\n",
    "                       \"R2\": [results[classifier_label][\"Training AUC\"]] + auc_scores[\"R2\"],\n",
    "                       \"Data type\": [\"Training\"] + auc_scores[\"Data type\"]})\n",
    "    \n",
    "    auc_scores.update({\"Classifier\": [classifier_label] + auc_scores[\"Classifier\"],\n",
    "                       \"R2\": [results[classifier_label][\"Test AUC\"]] + auc_scores[\"R2\"],\n",
    "                       \"Data type\": [\"Test\"] + auc_scores[\"Data type\"]})\n",
    "\n",
    "# Dictionary to PandasDataFrame\n",
    "auc_scores = pd.DataFrame(auc_scores)\n",
    "\n",
    "# Set graph style\n",
    "sns.set(font_scale = 1.75)\n",
    "sns.set_style({\"axes.facecolor\": \"1.0\", \"axes.edgecolor\": \"0.85\", \"grid.color\": \"0.85\",\n",
    "               \"grid.linestyle\": \"-\", 'axes.labelcolor': '0.4', \"xtick.color\": \"0.4\",\n",
    "               'ytick.color': '0.4'})\n",
    "\n",
    "    \n",
    "# Colors\n",
    "training_color = sns.color_palette(\"RdYlBu\", 10)[1]\n",
    "test_color = sns.color_palette(\"RdYlBu\", 10)[-2]\n",
    "colors = [training_color, test_color]\n",
    "\n",
    "# Set figure size and create barplot\n",
    "f, ax = plt.subplots(figsize=(12, 9))\n",
    "\n",
    "def show_values(axs, orient=\"v\", space=.01):\n",
    "    def _single(ax):\n",
    "        if orient == \"v\":\n",
    "            for p in ax.patches:\n",
    "                _x = p.get_x() + p.get_width() / 2\n",
    "                _y = p.get_y() + p.get_height() + (p.get_height()*0.01)\n",
    "                value = '{:.3f}'.format(p.get_height())\n",
    "                ax.text(_x, _y, value, ha=\"center\") \n",
    "        elif orient == \"h\":\n",
    "            for p in ax.patches:\n",
    "                _x = p.get_x() + p.get_width() + float(space)\n",
    "                _y = p.get_y() + p.get_height() - (p.get_height()*0.5)\n",
    "                value = '{:.3f}'.format(p.get_width())\n",
    "                ax.text(_x, _y, value, ha=\"left\")\n",
    "\n",
    "    if isinstance(axs, np.ndarray):\n",
    "        for idx, ax in np.ndenumerate(axs):\n",
    "            _single(ax)\n",
    "    else:\n",
    "        _single(axs)\n",
    "\n",
    "p = sns.barplot(x=\"R2\", y=\"Classifier\", hue=\"Data type\", palette = colors, data=auc_scores)\n",
    "show_values(p, \"h\", space=0.5)\n",
    "\n",
    "# Generate a bolded horizontal line at y = 0\n",
    "ax.axvline(x = 0, color = 'black', linewidth = 4, alpha = .7)\n",
    "\n",
    "# Turn frame off\n",
    "ax.set_frame_on(False)\n",
    "\n",
    "# Tight layout\n",
    "plt.tight_layout()\n",
    "\n",
    "# Save Figure\n",
    "plt.title('$R^2$ Scores of Models')\n",
    "plt.savefig(\"R2scores.png\", dpi = 1080)\n",
    "plt.show()"
   ]
  },
  {
   "cell_type": "code",
   "execution_count": 81,
   "id": "c66535da-3bbc-4ab4-a936-b7b1f2b2a590",
   "metadata": {
    "scrolled": true,
    "tags": []
   },
   "outputs": [
    {
     "name": "stdout",
     "output_type": "stream",
     "text": [
      "Random Forest       : 0.0\n",
      "Naives Bayes        : 0.0\n",
      "K-Nearest Neighbors : 0.0\n"
     ]
    }
   ],
   "source": [
    "# Initialize auc_score dictionary\n",
    "mse_scores = {\n",
    "              \"Classifier\": [],\n",
    "              \"MSE\": [],\n",
    "              }\n",
    "\n",
    "# Get MSE scores into dictionary\n",
    "for classifier_label in results:\n",
    "    mse_scores.update({\"Classifier\": [classifier_label] + mse_scores[\"Classifier\"],\n",
    "                       \"MSE\": [results[classifier_label][\"Test MSE\"]] + mse_scores[\"MSE\"]})\n",
    "# Best MSE scores found for the models\n",
    "for model, mse in zip(mse_scores[\"Classifier\"], mse_scores[\"MSE\"]):\n",
    "    print(f\"{model:20}: {mse}\")"
   ]
  },
  {
   "cell_type": "code",
   "execution_count": 84,
   "id": "39d00156-1d45-410d-a6e6-2d497514b09f",
   "metadata": {
    "tags": []
   },
   "outputs": [
    {
     "name": "stdout",
     "output_type": "stream",
     "text": [
      "{'max_depth': 8, 'min_samples_leaf': 0.005, 'min_samples_split': 0.005, 'n_estimators': 500, 'n_jobs': -1}\n"
     ]
    }
   ],
   "source": [
    "# Using best found parameters for Random Forest, refit the model to the training data\n",
    "best_rf_params = dict()\n",
    "for key, value in results['Random Forest']['Best Parameters'].items():\n",
    "    best_rf_params[key.replace('classifier__', '')] = value\n",
    "print(best_rf_params)\n",
    "\n",
    "rf_classifier = RandomForestClassifier()\n",
    "rf_classifier.set_params(**best_rf_params)\n",
    "rf_classifier = rf_classifier.fit(X_train, np.ravel(y_train))\n"
   ]
  },
  {
   "cell_type": "code",
   "execution_count": 85,
   "id": "467190f2-af12-457d-9178-856e0606b0ae",
   "metadata": {
    "tags": []
   },
   "outputs": [
    {
     "data": {
      "text/plain": [
       "['./parameter_search.joblib']"
      ]
     },
     "execution_count": 85,
     "metadata": {},
     "output_type": "execute_result"
    }
   ],
   "source": [
    "#Save model\n",
    "import joblib\n",
    "joblib.dump(rf_classifier, \"./parameter_search.joblib\")\n",
    "#To load Parameters: load_work = joblib.load(\"./work.joblib\")"
   ]
  },
  {
   "cell_type": "code",
   "execution_count": null,
   "id": "5ddc03fd-3b15-4b15-baa3-eabfdf792655",
   "metadata": {},
   "outputs": [],
   "source": []
  }
 ],
 "metadata": {
  "kernelspec": {
   "display_name": "Python 3 (ipykernel)",
   "language": "python",
   "name": "python3"
  },
  "language_info": {
   "codemirror_mode": {
    "name": "ipython",
    "version": 3
   },
   "file_extension": ".py",
   "mimetype": "text/x-python",
   "name": "python",
   "nbconvert_exporter": "python",
   "pygments_lexer": "ipython3",
   "version": "3.9.12"
  }
 },
 "nbformat": 4,
 "nbformat_minor": 5
}
