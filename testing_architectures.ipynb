{
 "cells": [
  {
   "cell_type": "code",
   "execution_count": 2,
   "id": "0ffa3e83-4924-444c-825d-c170f06c3db5",
   "metadata": {
    "tags": []
   },
   "outputs": [],
   "source": [
    "import numpy as np\n",
    "import pandas as pd\n",
    "from tensorflow.keras.models import Sequential\n",
    "from tensorflow.keras.layers import Dense, Conv1D, MaxPooling1D, Flatten, Dropout\n",
    "from tensorflow.keras.callbacks import Callback\n",
    "from sklearn.model_selection import train_test_split\n",
    "import time\n",
    "import keras\n",
    "import matplotlib.pyplot as plt"
   ]
  },
  {
   "cell_type": "code",
   "execution_count": 3,
   "id": "6051f36f-e18d-4f99-afc1-b10ce60b70fe",
   "metadata": {
    "tags": []
   },
   "outputs": [],
   "source": [
    "class PlotValidationLoss(Callback):\n",
    "    def __init__(self,bin_factor):\n",
    "        self.bin_factor=bin_factor\n",
    "        self.val_losses = []\n",
    "\n",
    "    def on_epoch_end(self, epoch, logs=None):\n",
    "    \n",
    "        val_loss = logs.get('val_loss')\n",
    "        print(f\"Epoch {epoch+1}, Validation Loss: {val_loss:.4f}\")\n",
    "        self.val_losses.append(val_loss)\n",
    "        if (epoch+1) % 15 == 0 or epoch == 0:\n",
    "            self.plot_validation_loss()\n",
    "\n",
    "    def plot_validation_loss(self):\n",
    "        epochs_range = range(0, len(self.val_losses))\n",
    "        plt.plot(epochs_range, self.val_losses, 'b', label='Validation Loss')\n",
    "        plt.xlabel('Epochs')\n",
    "        plt.ylabel('Loss')\n",
    "        plt.title('Validation Loss')\n",
    "        plt.legend()\n",
    "        plt.savefig('Training-CNN_Validation_Error_'+str(self.bin_factor)+'.png')"
   ]
  },
  {
   "cell_type": "code",
   "execution_count": 4,
   "id": "8cf9df0f-2fa5-4223-8a32-5db7a0d9559e",
   "metadata": {
    "tags": []
   },
   "outputs": [],
   "source": [
    "start_time = time.time()\n",
    "import os\n",
    "from preprocessing import Preprocessing\n",
    "path_BH = os.path.join('data', 'BH')\n",
    "path_NS = os.path.join('data', 'NS')\n",
    "preprocessor = Preprocessing() \n",
    "\n",
    "bin_factor=10\n",
    "\n",
    "BH_powerspectra = preprocessor.collect_all_powerspectra(path_BH, bin_factor=bin_factor, BH=True)\n",
    "NS_powerspectra = preprocessor.collect_all_powerspectra(path_NS, bin_factor=bin_factor, BH=False)\n",
    "\n",
    "powerspectra=np.append(np.array(BH_powerspectra),np.array(NS_powerspectra),axis=0)\n",
    "#data=pd.DataFrame(powerspectra,columns=['freq','power','error','BH?'])"
   ]
  },
  {
   "cell_type": "code",
   "execution_count": 9,
   "id": "a83e07f8-b52d-4533-bc53-171a194f5298",
   "metadata": {},
   "outputs": [
    {
     "data": {
      "text/plain": [
       "(131072, 4)"
      ]
     },
     "execution_count": 9,
     "metadata": {},
     "output_type": "execute_result"
    }
   ],
   "source": [
    "powerspectra.shape"
   ]
  },
  {
   "cell_type": "code",
   "execution_count": 10,
   "id": "a6eccf34-86da-4758-a557-2395f6616bcd",
   "metadata": {
    "tags": []
   },
   "outputs": [
    {
     "data": {
      "text/plain": [
       "(131072, 2)"
      ]
     },
     "execution_count": 10,
     "metadata": {},
     "output_type": "execute_result"
    }
   ],
   "source": [
    "powerspectra[:,0:2].shape"
   ]
  },
  {
   "cell_type": "code",
   "execution_count": 57,
   "id": "8a89f6d0-f744-44c4-a9df-c257ebb0e3e8",
   "metadata": {
    "tags": []
   },
   "outputs": [],
   "source": [
    "# post_processing_time = time.time()\n",
    "X = powerspectra[:,0:2]\n",
    "y = powerspectra[:,3].flatten()\n",
    "\n",
    "# Assuming 'X' is your input data\n",
    "# Calculate mean and standard deviation\n",
    "mean = np.mean(X, axis=0)\n",
    "std_dev = np.std(X, axis=0)\n",
    "X_standardized = (X - mean) / std_dev\n",
    "\n",
    "#mean = np.mean(y, axis=0)\n",
    "#std_dev = np.std(y, axis=0)\n",
    "#y_standardized = (y - mean) / std_dev\n",
    "# Standardize the data\n",
    "\n",
    "# Split data into training, validation, and testing sets\n",
    "X_train, X_test, y_train, y_test = train_test_split(X_standardized, y, test_size=0.3, random_state=42)\n",
    "#X_val, X_test, y_val, y_test = train_test_split(X_temp, y_temp, test_size=0.5, random_state=42)"
   ]
  },
  {
   "cell_type": "code",
   "execution_count": 58,
   "id": "f3d83124-b842-454e-b907-2ce1f403273a",
   "metadata": {
    "tags": []
   },
   "outputs": [],
   "source": [
    "#X_train, X_val, X_test=[data.reshape([8,-1,1]) for data in [X_train,X_val, X_test]]\n",
    "y_train = keras.utils.to_categorical(y_train, num_classes = 2)\n",
    "y_test = keras.utils.to_categorical(y_test, num_classes = 2)"
   ]
  },
  {
   "cell_type": "code",
   "execution_count": 59,
   "id": "9b2fda6e-f2c2-4220-be5e-d70774c71a55",
   "metadata": {
    "tags": []
   },
   "outputs": [],
   "source": [
    "# Flatten the input data\n",
    "#X_train.reshape((-1,30,1))\n",
    "X_train=X_train.reshape((-1,500,1))\n",
    "#X_test=X_test.reshape((-1,500,1))"
   ]
  },
  {
   "cell_type": "code",
   "execution_count": 60,
   "id": "02ddd295-4373-4e54-b9a8-153b70f4e8d4",
   "metadata": {
    "tags": []
   },
   "outputs": [
    {
     "data": {
      "text/plain": [
       "((367, 500, 1), (91750, 2), (39322, 2), (39322, 2))"
      ]
     },
     "execution_count": 60,
     "metadata": {},
     "output_type": "execute_result"
    }
   ],
   "source": [
    "X_train.shape,y_train.shape,X_test.shape,y_test.shape"
   ]
  },
  {
   "cell_type": "code",
   "execution_count": 61,
   "id": "d40339b5-2b0c-49d8-84d9-e6a2e654ec11",
   "metadata": {
    "tags": []
   },
   "outputs": [],
   "source": [
    "# Define your model\n",
    "model = Sequential()\n",
    "\n",
    "# Add 1D convolutional layer\n",
    "model.add(Conv1D(filters=128, kernel_size=32, strides=2, use_bias=True,activation='relu', input_shape=(X_train.shape[1],X_train.shape[2])))\n",
    "\n",
    "# Add max pooling layer\n",
    "model.add(MaxPooling1D(pool_size=2))\n",
    "\n",
    "# Add additional convolutional layers or other layers as needed\n",
    "# model.add(Conv1D(filters=64, kernel_size=3, activation='relu'))\n",
    "# model.add(MaxPooling1D(pool_size=2))\n",
    "\n",
    "# Flatten the output of the last convolutional layer\n",
    "model.add(Flatten())\n",
    "\n",
    "# Add fully connected layers\n",
    "model.add(Dense(32, activation='relu'))\n",
    "model.add(Dropout(0.2))  # Dropout for regularization\n",
    "\n",
    "# Output layer for binary classification\n",
    "model.add(Dense(2, activation='sigmoid'))\n",
    "\n",
    "# Compile the model\n",
    "model.compile(optimizer='adam', loss='binary_crossentropy', metrics=['accuracy'])"
   ]
  },
  {
   "cell_type": "code",
   "execution_count": 62,
   "id": "065f6349-8f58-4cf5-b572-99dcf8079e33",
   "metadata": {
    "tags": []
   },
   "outputs": [
    {
     "name": "stdout",
     "output_type": "stream",
     "text": [
      "Epoch 1/150\n",
      "6/6 [==============================] - 1s 60ms/step - loss: 0.7537 - accuracy: 0.5086 - val_loss: 0.7138 - val_accuracy: 0.5789\n",
      "Epoch 2/150\n",
      "6/6 [==============================] - 0s 27ms/step - loss: 0.6869 - accuracy: 0.5776 - val_loss: 0.7368 - val_accuracy: 0.4211\n",
      "Epoch 3/150\n",
      "6/6 [==============================] - 0s 31ms/step - loss: 0.6227 - accuracy: 0.6523 - val_loss: 0.7003 - val_accuracy: 0.5789\n",
      "Epoch 4/150\n",
      "6/6 [==============================] - 0s 28ms/step - loss: 0.5914 - accuracy: 0.7184 - val_loss: 0.7225 - val_accuracy: 0.5789\n",
      "Epoch 5/150\n",
      "6/6 [==============================] - 0s 27ms/step - loss: 0.5468 - accuracy: 0.7701 - val_loss: 0.7292 - val_accuracy: 0.6316\n",
      "Epoch 6/150\n",
      "6/6 [==============================] - 0s 28ms/step - loss: 0.4993 - accuracy: 0.8305 - val_loss: 0.7554 - val_accuracy: 0.5263\n",
      "Epoch 7/150\n",
      "6/6 [==============================] - 0s 29ms/step - loss: 0.4585 - accuracy: 0.8362 - val_loss: 0.8032 - val_accuracy: 0.5263\n",
      "Epoch 8/150\n",
      "6/6 [==============================] - 0s 26ms/step - loss: 0.4045 - accuracy: 0.8448 - val_loss: 0.8152 - val_accuracy: 0.5263\n",
      "Epoch 9/150\n",
      "6/6 [==============================] - 0s 28ms/step - loss: 0.3623 - accuracy: 0.8994 - val_loss: 0.8744 - val_accuracy: 0.5263\n",
      "Epoch 10/150\n",
      "6/6 [==============================] - 0s 27ms/step - loss: 0.3518 - accuracy: 0.8592 - val_loss: 0.8881 - val_accuracy: 0.5263\n",
      "Epoch 11/150\n",
      "6/6 [==============================] - 0s 26ms/step - loss: 0.2972 - accuracy: 0.9080 - val_loss: 1.0203 - val_accuracy: 0.5789\n",
      "Epoch 12/150\n",
      "6/6 [==============================] - 0s 30ms/step - loss: 0.2578 - accuracy: 0.9310 - val_loss: 1.0001 - val_accuracy: 0.5263\n",
      "Epoch 13/150\n",
      "6/6 [==============================] - 0s 29ms/step - loss: 0.2228 - accuracy: 0.9454 - val_loss: 1.0975 - val_accuracy: 0.5263\n",
      "Epoch 14/150\n",
      "6/6 [==============================] - 0s 25ms/step - loss: 0.2095 - accuracy: 0.9454 - val_loss: 1.0952 - val_accuracy: 0.4737\n",
      "Epoch 15/150\n",
      "6/6 [==============================] - 0s 28ms/step - loss: 0.1726 - accuracy: 0.9713 - val_loss: 1.2522 - val_accuracy: 0.4737\n",
      "Epoch 16/150\n",
      "6/6 [==============================] - 0s 28ms/step - loss: 0.1533 - accuracy: 0.9713 - val_loss: 1.3158 - val_accuracy: 0.4211\n",
      "Epoch 17/150\n",
      "6/6 [==============================] - 0s 26ms/step - loss: 0.1431 - accuracy: 0.9713 - val_loss: 1.3288 - val_accuracy: 0.4211\n",
      "Epoch 18/150\n",
      "6/6 [==============================] - 0s 25ms/step - loss: 0.1152 - accuracy: 0.9828 - val_loss: 1.4387 - val_accuracy: 0.4211\n",
      "Epoch 19/150\n",
      "6/6 [==============================] - 0s 27ms/step - loss: 0.0944 - accuracy: 0.9885 - val_loss: 1.5018 - val_accuracy: 0.3684\n",
      "Epoch 20/150\n",
      "6/6 [==============================] - 0s 25ms/step - loss: 0.0757 - accuracy: 0.9914 - val_loss: 1.6293 - val_accuracy: 0.3684\n",
      "Epoch 21/150\n",
      "6/6 [==============================] - 0s 26ms/step - loss: 0.0705 - accuracy: 0.9943 - val_loss: 1.6744 - val_accuracy: 0.3684\n",
      "Epoch 22/150\n",
      "6/6 [==============================] - 0s 25ms/step - loss: 0.0698 - accuracy: 0.9914 - val_loss: 1.6752 - val_accuracy: 0.4211\n",
      "Epoch 23/150\n",
      "6/6 [==============================] - 0s 28ms/step - loss: 0.0529 - accuracy: 1.0000 - val_loss: 1.7887 - val_accuracy: 0.4211\n",
      "Epoch 24/150\n",
      "6/6 [==============================] - 0s 27ms/step - loss: 0.0478 - accuracy: 0.9971 - val_loss: 1.8405 - val_accuracy: 0.4211\n",
      "Epoch 25/150\n",
      "6/6 [==============================] - 0s 28ms/step - loss: 0.0410 - accuracy: 1.0000 - val_loss: 1.8911 - val_accuracy: 0.4211\n",
      "Epoch 26/150\n",
      "6/6 [==============================] - 0s 26ms/step - loss: 0.0489 - accuracy: 0.9885 - val_loss: 2.0004 - val_accuracy: 0.4737\n",
      "Epoch 27/150\n",
      "6/6 [==============================] - 0s 27ms/step - loss: 0.0411 - accuracy: 0.9971 - val_loss: 2.0012 - val_accuracy: 0.4211\n",
      "Epoch 28/150\n",
      "6/6 [==============================] - 0s 25ms/step - loss: 0.0366 - accuracy: 0.9971 - val_loss: 2.0637 - val_accuracy: 0.4211\n",
      "Epoch 29/150\n",
      "6/6 [==============================] - 0s 27ms/step - loss: 0.0328 - accuracy: 0.9971 - val_loss: 2.1402 - val_accuracy: 0.3684\n",
      "Epoch 30/150\n",
      "6/6 [==============================] - 0s 26ms/step - loss: 0.0281 - accuracy: 0.9971 - val_loss: 2.2358 - val_accuracy: 0.4211\n",
      "Epoch 31/150\n",
      "6/6 [==============================] - 0s 30ms/step - loss: 0.0229 - accuracy: 1.0000 - val_loss: 2.2800 - val_accuracy: 0.3684\n",
      "Epoch 32/150\n",
      "6/6 [==============================] - 0s 31ms/step - loss: 0.0226 - accuracy: 1.0000 - val_loss: 2.2860 - val_accuracy: 0.4211\n",
      "Epoch 33/150\n",
      "6/6 [==============================] - 0s 29ms/step - loss: 0.0214 - accuracy: 1.0000 - val_loss: 2.3788 - val_accuracy: 0.3684\n",
      "Epoch 34/150\n",
      "6/6 [==============================] - 0s 30ms/step - loss: 0.0256 - accuracy: 1.0000 - val_loss: 2.2542 - val_accuracy: 0.4211\n",
      "Epoch 35/150\n",
      "6/6 [==============================] - 0s 30ms/step - loss: 0.0206 - accuracy: 1.0000 - val_loss: 2.3680 - val_accuracy: 0.4211\n",
      "Epoch 36/150\n",
      "6/6 [==============================] - 0s 28ms/step - loss: 0.0227 - accuracy: 0.9971 - val_loss: 2.4191 - val_accuracy: 0.4211\n",
      "Epoch 37/150\n",
      "6/6 [==============================] - 0s 26ms/step - loss: 0.0185 - accuracy: 0.9971 - val_loss: 2.4692 - val_accuracy: 0.4211\n",
      "Epoch 38/150\n",
      "6/6 [==============================] - 0s 24ms/step - loss: 0.0162 - accuracy: 0.9971 - val_loss: 2.5108 - val_accuracy: 0.4211\n",
      "Epoch 39/150\n",
      "6/6 [==============================] - 0s 25ms/step - loss: 0.0141 - accuracy: 1.0000 - val_loss: 2.5504 - val_accuracy: 0.4211\n",
      "Epoch 40/150\n",
      "6/6 [==============================] - 0s 25ms/step - loss: 0.0145 - accuracy: 1.0000 - val_loss: 2.6841 - val_accuracy: 0.3684\n",
      "Epoch 41/150\n",
      "6/6 [==============================] - 0s 26ms/step - loss: 0.0141 - accuracy: 0.9971 - val_loss: 2.6233 - val_accuracy: 0.4211\n",
      "Epoch 42/150\n",
      "6/6 [==============================] - 0s 29ms/step - loss: 0.0126 - accuracy: 0.9971 - val_loss: 2.6985 - val_accuracy: 0.3684\n",
      "Epoch 43/150\n",
      "6/6 [==============================] - 0s 28ms/step - loss: 0.0101 - accuracy: 1.0000 - val_loss: 2.7175 - val_accuracy: 0.3684\n",
      "Epoch 44/150\n",
      "6/6 [==============================] - 0s 26ms/step - loss: 0.0132 - accuracy: 1.0000 - val_loss: 2.7893 - val_accuracy: 0.4211\n",
      "Epoch 45/150\n",
      "6/6 [==============================] - 0s 24ms/step - loss: 0.0135 - accuracy: 1.0000 - val_loss: 2.8821 - val_accuracy: 0.3158\n",
      "Epoch 46/150\n",
      "6/6 [==============================] - 0s 25ms/step - loss: 0.0112 - accuracy: 1.0000 - val_loss: 2.8695 - val_accuracy: 0.3684\n",
      "Epoch 47/150\n",
      "6/6 [==============================] - 0s 29ms/step - loss: 0.0145 - accuracy: 0.9971 - val_loss: 2.8140 - val_accuracy: 0.4211\n",
      "Epoch 48/150\n",
      "6/6 [==============================] - 0s 28ms/step - loss: 0.0164 - accuracy: 0.9971 - val_loss: 2.9130 - val_accuracy: 0.3684\n",
      "Epoch 49/150\n",
      "6/6 [==============================] - 0s 30ms/step - loss: 0.0159 - accuracy: 1.0000 - val_loss: 2.8303 - val_accuracy: 0.4211\n",
      "Epoch 50/150\n",
      "6/6 [==============================] - 0s 26ms/step - loss: 0.0100 - accuracy: 0.9971 - val_loss: 2.8450 - val_accuracy: 0.3684\n",
      "Epoch 51/150\n",
      "6/6 [==============================] - 0s 28ms/step - loss: 0.0139 - accuracy: 0.9971 - val_loss: 3.0088 - val_accuracy: 0.3684\n",
      "Epoch 52/150\n",
      "6/6 [==============================] - 0s 28ms/step - loss: 0.0114 - accuracy: 0.9971 - val_loss: 2.9968 - val_accuracy: 0.4211\n",
      "Epoch 53/150\n",
      "6/6 [==============================] - 0s 26ms/step - loss: 0.0114 - accuracy: 1.0000 - val_loss: 3.0092 - val_accuracy: 0.4211\n",
      "Epoch 54/150\n",
      "6/6 [==============================] - 0s 28ms/step - loss: 0.0083 - accuracy: 0.9971 - val_loss: 2.9399 - val_accuracy: 0.4211\n",
      "Epoch 55/150\n",
      "6/6 [==============================] - 0s 29ms/step - loss: 0.0121 - accuracy: 1.0000 - val_loss: 2.8348 - val_accuracy: 0.4211\n",
      "Epoch 56/150\n",
      "6/6 [==============================] - 0s 31ms/step - loss: 0.0107 - accuracy: 1.0000 - val_loss: 2.8498 - val_accuracy: 0.4211\n",
      "Epoch 57/150\n",
      "6/6 [==============================] - 0s 27ms/step - loss: 0.0083 - accuracy: 1.0000 - val_loss: 2.9865 - val_accuracy: 0.4211\n",
      "Epoch 58/150\n",
      "6/6 [==============================] - 0s 28ms/step - loss: 0.0101 - accuracy: 0.9971 - val_loss: 3.0931 - val_accuracy: 0.4211\n",
      "Epoch 59/150\n",
      "6/6 [==============================] - 0s 29ms/step - loss: 0.0115 - accuracy: 0.9943 - val_loss: 2.8990 - val_accuracy: 0.4211\n",
      "Epoch 60/150\n",
      "6/6 [==============================] - 0s 38ms/step - loss: 0.0084 - accuracy: 1.0000 - val_loss: 2.9157 - val_accuracy: 0.4211\n",
      "Epoch 61/150\n",
      "6/6 [==============================] - 0s 29ms/step - loss: 0.0104 - accuracy: 1.0000 - val_loss: 2.9951 - val_accuracy: 0.3684\n",
      "Epoch 62/150\n",
      "6/6 [==============================] - 0s 29ms/step - loss: 0.0084 - accuracy: 1.0000 - val_loss: 3.0760 - val_accuracy: 0.3684\n",
      "Epoch 63/150\n",
      "6/6 [==============================] - 0s 28ms/step - loss: 0.0075 - accuracy: 0.9971 - val_loss: 3.1921 - val_accuracy: 0.3684\n",
      "Epoch 64/150\n",
      "6/6 [==============================] - 0s 32ms/step - loss: 0.0065 - accuracy: 1.0000 - val_loss: 3.2775 - val_accuracy: 0.4211\n",
      "Epoch 65/150\n",
      "6/6 [==============================] - 0s 28ms/step - loss: 0.0065 - accuracy: 1.0000 - val_loss: 3.1797 - val_accuracy: 0.3684\n",
      "Epoch 66/150\n",
      "6/6 [==============================] - 0s 31ms/step - loss: 0.0073 - accuracy: 1.0000 - val_loss: 3.1787 - val_accuracy: 0.4211\n",
      "Epoch 67/150\n",
      "6/6 [==============================] - 0s 28ms/step - loss: 0.0085 - accuracy: 1.0000 - val_loss: 3.1596 - val_accuracy: 0.3684\n",
      "Epoch 68/150\n",
      "6/6 [==============================] - 0s 28ms/step - loss: 0.0056 - accuracy: 1.0000 - val_loss: 3.1618 - val_accuracy: 0.3684\n",
      "Epoch 69/150\n",
      "6/6 [==============================] - 0s 31ms/step - loss: 0.0059 - accuracy: 1.0000 - val_loss: 3.3739 - val_accuracy: 0.4211\n",
      "Epoch 70/150\n",
      "6/6 [==============================] - 0s 28ms/step - loss: 0.0100 - accuracy: 1.0000 - val_loss: 3.2883 - val_accuracy: 0.4211\n",
      "Epoch 71/150\n",
      "6/6 [==============================] - 0s 28ms/step - loss: 0.0087 - accuracy: 0.9971 - val_loss: 3.1577 - val_accuracy: 0.3684\n",
      "Epoch 72/150\n",
      "6/6 [==============================] - 0s 29ms/step - loss: 0.0051 - accuracy: 1.0000 - val_loss: 3.1860 - val_accuracy: 0.3684\n",
      "Epoch 73/150\n",
      "6/6 [==============================] - 0s 25ms/step - loss: 0.0057 - accuracy: 1.0000 - val_loss: 3.2498 - val_accuracy: 0.3684\n",
      "Epoch 74/150\n",
      "6/6 [==============================] - 0s 27ms/step - loss: 0.0140 - accuracy: 0.9971 - val_loss: 3.1378 - val_accuracy: 0.3684\n",
      "Epoch 75/150\n",
      "6/6 [==============================] - 0s 30ms/step - loss: 0.0067 - accuracy: 1.0000 - val_loss: 3.1317 - val_accuracy: 0.3684\n",
      "Epoch 76/150\n",
      "6/6 [==============================] - 0s 29ms/step - loss: 0.0113 - accuracy: 0.9943 - val_loss: 3.3466 - val_accuracy: 0.4211\n",
      "Epoch 77/150\n",
      "6/6 [==============================] - 0s 35ms/step - loss: 0.0057 - accuracy: 1.0000 - val_loss: 3.4673 - val_accuracy: 0.4211\n",
      "Epoch 78/150\n",
      "6/6 [==============================] - 0s 28ms/step - loss: 0.0081 - accuracy: 1.0000 - val_loss: 3.4064 - val_accuracy: 0.3684\n",
      "Epoch 79/150\n",
      "6/6 [==============================] - 0s 27ms/step - loss: 0.0049 - accuracy: 1.0000 - val_loss: 3.1652 - val_accuracy: 0.3684\n",
      "Epoch 80/150\n",
      "6/6 [==============================] - 0s 27ms/step - loss: 0.0100 - accuracy: 0.9971 - val_loss: 3.3824 - val_accuracy: 0.4211\n",
      "Epoch 81/150\n",
      "6/6 [==============================] - 0s 28ms/step - loss: 0.0099 - accuracy: 1.0000 - val_loss: 3.4768 - val_accuracy: 0.3684\n",
      "Epoch 82/150\n",
      "6/6 [==============================] - 0s 26ms/step - loss: 0.0060 - accuracy: 1.0000 - val_loss: 3.5880 - val_accuracy: 0.3684\n",
      "Epoch 83/150\n",
      "6/6 [==============================] - 0s 27ms/step - loss: 0.0055 - accuracy: 1.0000 - val_loss: 3.8042 - val_accuracy: 0.4211\n",
      "Epoch 84/150\n",
      "6/6 [==============================] - 0s 27ms/step - loss: 0.0088 - accuracy: 0.9971 - val_loss: 3.6135 - val_accuracy: 0.3684\n",
      "Epoch 85/150\n",
      "6/6 [==============================] - 0s 25ms/step - loss: 0.0117 - accuracy: 0.9943 - val_loss: 3.6434 - val_accuracy: 0.4211\n",
      "Epoch 86/150\n",
      "6/6 [==============================] - 0s 28ms/step - loss: 0.0104 - accuracy: 0.9971 - val_loss: 3.4616 - val_accuracy: 0.3684\n",
      "Epoch 87/150\n",
      "6/6 [==============================] - 0s 29ms/step - loss: 0.0099 - accuracy: 0.9971 - val_loss: 3.4227 - val_accuracy: 0.3158\n",
      "Epoch 88/150\n",
      "6/6 [==============================] - 0s 27ms/step - loss: 0.0047 - accuracy: 1.0000 - val_loss: 3.6711 - val_accuracy: 0.4737\n",
      "Epoch 89/150\n",
      "6/6 [==============================] - 0s 29ms/step - loss: 0.0064 - accuracy: 1.0000 - val_loss: 3.8701 - val_accuracy: 0.4737\n",
      "Epoch 90/150\n",
      "6/6 [==============================] - 0s 31ms/step - loss: 0.0088 - accuracy: 0.9971 - val_loss: 3.6128 - val_accuracy: 0.3158\n",
      "Epoch 91/150\n",
      "6/6 [==============================] - 0s 30ms/step - loss: 0.0067 - accuracy: 1.0000 - val_loss: 3.4952 - val_accuracy: 0.4211\n",
      "Epoch 92/150\n",
      "6/6 [==============================] - 0s 28ms/step - loss: 0.0062 - accuracy: 1.0000 - val_loss: 3.6146 - val_accuracy: 0.4211\n",
      "Epoch 93/150\n",
      "6/6 [==============================] - 0s 26ms/step - loss: 0.0066 - accuracy: 1.0000 - val_loss: 3.7973 - val_accuracy: 0.4211\n",
      "Epoch 94/150\n",
      "6/6 [==============================] - 0s 26ms/step - loss: 0.0064 - accuracy: 0.9971 - val_loss: 3.4877 - val_accuracy: 0.4211\n",
      "Epoch 95/150\n",
      "6/6 [==============================] - 0s 25ms/step - loss: 0.0061 - accuracy: 1.0000 - val_loss: 3.3107 - val_accuracy: 0.3684\n",
      "Epoch 96/150\n",
      "6/6 [==============================] - 0s 24ms/step - loss: 0.0153 - accuracy: 0.9914 - val_loss: 3.2127 - val_accuracy: 0.4737\n",
      "Epoch 97/150\n",
      "6/6 [==============================] - 0s 30ms/step - loss: 0.0094 - accuracy: 1.0000 - val_loss: 3.0840 - val_accuracy: 0.4737\n",
      "Epoch 98/150\n",
      "6/6 [==============================] - 0s 30ms/step - loss: 0.0101 - accuracy: 0.9971 - val_loss: 3.3204 - val_accuracy: 0.3684\n",
      "Epoch 99/150\n",
      "6/6 [==============================] - 0s 27ms/step - loss: 0.0068 - accuracy: 1.0000 - val_loss: 3.7758 - val_accuracy: 0.4737\n",
      "Epoch 100/150\n",
      "6/6 [==============================] - 0s 28ms/step - loss: 0.0105 - accuracy: 0.9971 - val_loss: 3.7762 - val_accuracy: 0.4211\n",
      "Epoch 101/150\n",
      "6/6 [==============================] - 0s 28ms/step - loss: 0.0068 - accuracy: 1.0000 - val_loss: 3.8136 - val_accuracy: 0.4211\n",
      "Epoch 102/150\n",
      "6/6 [==============================] - 0s 30ms/step - loss: 0.0051 - accuracy: 1.0000 - val_loss: 3.7956 - val_accuracy: 0.4211\n",
      "Epoch 103/150\n",
      "6/6 [==============================] - 0s 26ms/step - loss: 0.0070 - accuracy: 0.9971 - val_loss: 3.8139 - val_accuracy: 0.4211\n",
      "Epoch 104/150\n",
      "6/6 [==============================] - 0s 26ms/step - loss: 0.0054 - accuracy: 1.0000 - val_loss: 3.9347 - val_accuracy: 0.4211\n",
      "Epoch 105/150\n",
      "6/6 [==============================] - 0s 27ms/step - loss: 0.0052 - accuracy: 0.9971 - val_loss: 3.9530 - val_accuracy: 0.4211\n",
      "Epoch 106/150\n",
      "6/6 [==============================] - 0s 27ms/step - loss: 0.0047 - accuracy: 1.0000 - val_loss: 3.8647 - val_accuracy: 0.3684\n",
      "Epoch 107/150\n",
      "6/6 [==============================] - 0s 29ms/step - loss: 0.0058 - accuracy: 0.9971 - val_loss: 3.8249 - val_accuracy: 0.3158\n",
      "Epoch 108/150\n",
      "6/6 [==============================] - 0s 25ms/step - loss: 0.0123 - accuracy: 0.9943 - val_loss: 3.7749 - val_accuracy: 0.4737\n",
      "Epoch 109/150\n",
      "6/6 [==============================] - 0s 26ms/step - loss: 0.0052 - accuracy: 1.0000 - val_loss: 3.8306 - val_accuracy: 0.4737\n",
      "Epoch 110/150\n",
      "6/6 [==============================] - 0s 26ms/step - loss: 0.0063 - accuracy: 0.9971 - val_loss: 3.9590 - val_accuracy: 0.4211\n",
      "Epoch 111/150\n",
      "6/6 [==============================] - 0s 29ms/step - loss: 0.0068 - accuracy: 0.9971 - val_loss: 4.0007 - val_accuracy: 0.4211\n",
      "Epoch 112/150\n",
      "6/6 [==============================] - 0s 36ms/step - loss: 0.0051 - accuracy: 1.0000 - val_loss: 3.9953 - val_accuracy: 0.4211\n",
      "Epoch 113/150\n",
      "6/6 [==============================] - 0s 27ms/step - loss: 0.0074 - accuracy: 1.0000 - val_loss: 3.9575 - val_accuracy: 0.4211\n",
      "Epoch 114/150\n",
      "6/6 [==============================] - 0s 25ms/step - loss: 0.0040 - accuracy: 1.0000 - val_loss: 4.1406 - val_accuracy: 0.4211\n",
      "Epoch 115/150\n",
      "6/6 [==============================] - 0s 24ms/step - loss: 0.0066 - accuracy: 0.9971 - val_loss: 4.0802 - val_accuracy: 0.4211\n",
      "Epoch 116/150\n",
      "6/6 [==============================] - 0s 26ms/step - loss: 0.0054 - accuracy: 1.0000 - val_loss: 3.8433 - val_accuracy: 0.4211\n",
      "Epoch 117/150\n",
      "6/6 [==============================] - 0s 24ms/step - loss: 0.0078 - accuracy: 1.0000 - val_loss: 3.7979 - val_accuracy: 0.4211\n",
      "Epoch 118/150\n",
      "6/6 [==============================] - 0s 33ms/step - loss: 0.0059 - accuracy: 0.9971 - val_loss: 3.9186 - val_accuracy: 0.4737\n",
      "Epoch 119/150\n",
      "6/6 [==============================] - 0s 30ms/step - loss: 0.0063 - accuracy: 1.0000 - val_loss: 4.2752 - val_accuracy: 0.4211\n",
      "Epoch 120/150\n",
      "6/6 [==============================] - 0s 26ms/step - loss: 0.0045 - accuracy: 1.0000 - val_loss: 4.2876 - val_accuracy: 0.4211\n",
      "Epoch 121/150\n",
      "6/6 [==============================] - 0s 29ms/step - loss: 0.0060 - accuracy: 1.0000 - val_loss: 4.2082 - val_accuracy: 0.4211\n",
      "Epoch 122/150\n",
      "6/6 [==============================] - 0s 29ms/step - loss: 0.0066 - accuracy: 1.0000 - val_loss: 4.2617 - val_accuracy: 0.4211\n",
      "Epoch 123/150\n",
      "6/6 [==============================] - 0s 29ms/step - loss: 0.0088 - accuracy: 0.9971 - val_loss: 4.3100 - val_accuracy: 0.4737\n",
      "Epoch 124/150\n",
      "6/6 [==============================] - 0s 26ms/step - loss: 0.0055 - accuracy: 1.0000 - val_loss: 3.8398 - val_accuracy: 0.4211\n",
      "Epoch 125/150\n",
      "6/6 [==============================] - 0s 34ms/step - loss: 0.0079 - accuracy: 1.0000 - val_loss: 3.7747 - val_accuracy: 0.3684\n",
      "Epoch 126/150\n",
      "6/6 [==============================] - 0s 28ms/step - loss: 0.0044 - accuracy: 1.0000 - val_loss: 4.0158 - val_accuracy: 0.4737\n",
      "Epoch 127/150\n",
      "6/6 [==============================] - 0s 30ms/step - loss: 0.0060 - accuracy: 0.9971 - val_loss: 4.2689 - val_accuracy: 0.4211\n",
      "Epoch 128/150\n",
      "6/6 [==============================] - 0s 27ms/step - loss: 0.0040 - accuracy: 1.0000 - val_loss: 4.3356 - val_accuracy: 0.4737\n",
      "Epoch 129/150\n",
      "6/6 [==============================] - 0s 27ms/step - loss: 0.0042 - accuracy: 1.0000 - val_loss: 4.3422 - val_accuracy: 0.3684\n",
      "Epoch 130/150\n",
      "6/6 [==============================] - 0s 28ms/step - loss: 0.0042 - accuracy: 1.0000 - val_loss: 4.4409 - val_accuracy: 0.4211\n",
      "Epoch 131/150\n",
      "6/6 [==============================] - 0s 30ms/step - loss: 0.0076 - accuracy: 1.0000 - val_loss: 4.5639 - val_accuracy: 0.3684\n",
      "Epoch 132/150\n",
      "6/6 [==============================] - 0s 26ms/step - loss: 0.0043 - accuracy: 1.0000 - val_loss: 4.4285 - val_accuracy: 0.4211\n",
      "Epoch 133/150\n",
      "6/6 [==============================] - 0s 30ms/step - loss: 0.0058 - accuracy: 0.9971 - val_loss: 4.4565 - val_accuracy: 0.4737\n",
      "Epoch 134/150\n",
      "6/6 [==============================] - 0s 28ms/step - loss: 0.0060 - accuracy: 1.0000 - val_loss: 4.5280 - val_accuracy: 0.3684\n",
      "Epoch 135/150\n",
      "6/6 [==============================] - 0s 28ms/step - loss: 0.0057 - accuracy: 0.9971 - val_loss: 4.6490 - val_accuracy: 0.4211\n",
      "Epoch 136/150\n",
      "6/6 [==============================] - 0s 31ms/step - loss: 0.0067 - accuracy: 1.0000 - val_loss: 4.4265 - val_accuracy: 0.4211\n",
      "Epoch 137/150\n",
      "6/6 [==============================] - 0s 30ms/step - loss: 0.0085 - accuracy: 0.9971 - val_loss: 4.1035 - val_accuracy: 0.4737\n",
      "Epoch 138/150\n",
      "6/6 [==============================] - 0s 25ms/step - loss: 0.0037 - accuracy: 1.0000 - val_loss: 3.9520 - val_accuracy: 0.4737\n",
      "Epoch 139/150\n",
      "6/6 [==============================] - 0s 25ms/step - loss: 0.0044 - accuracy: 1.0000 - val_loss: 4.1842 - val_accuracy: 0.4737\n",
      "Epoch 140/150\n",
      "6/6 [==============================] - 0s 28ms/step - loss: 0.0054 - accuracy: 1.0000 - val_loss: 4.4651 - val_accuracy: 0.4737\n",
      "Epoch 141/150\n",
      "6/6 [==============================] - 0s 26ms/step - loss: 0.0085 - accuracy: 0.9943 - val_loss: 4.4902 - val_accuracy: 0.3684\n",
      "Epoch 142/150\n",
      "6/6 [==============================] - 0s 26ms/step - loss: 0.0089 - accuracy: 0.9971 - val_loss: 3.7835 - val_accuracy: 0.4211\n",
      "Epoch 143/150\n",
      "6/6 [==============================] - 0s 28ms/step - loss: 0.0049 - accuracy: 1.0000 - val_loss: 3.9328 - val_accuracy: 0.4211\n",
      "Epoch 144/150\n",
      "6/6 [==============================] - 0s 27ms/step - loss: 0.0057 - accuracy: 1.0000 - val_loss: 4.5074 - val_accuracy: 0.4211\n",
      "Epoch 145/150\n",
      "6/6 [==============================] - 0s 29ms/step - loss: 0.0082 - accuracy: 0.9971 - val_loss: 4.7804 - val_accuracy: 0.4211\n",
      "Epoch 146/150\n",
      "6/6 [==============================] - 0s 29ms/step - loss: 0.0039 - accuracy: 1.0000 - val_loss: 4.6916 - val_accuracy: 0.4211\n",
      "Epoch 147/150\n",
      "6/6 [==============================] - 0s 29ms/step - loss: 0.0075 - accuracy: 1.0000 - val_loss: 4.6805 - val_accuracy: 0.4211\n",
      "Epoch 148/150\n",
      "6/6 [==============================] - 0s 32ms/step - loss: 0.0035 - accuracy: 1.0000 - val_loss: 4.7610 - val_accuracy: 0.4211\n",
      "Epoch 149/150\n",
      "6/6 [==============================] - 0s 26ms/step - loss: 0.0057 - accuracy: 0.9971 - val_loss: 4.7650 - val_accuracy: 0.4211\n",
      "Epoch 150/150\n",
      "6/6 [==============================] - 0s 30ms/step - loss: 0.0037 - accuracy: 1.0000 - val_loss: 4.7938 - val_accuracy: 0.4211\n"
     ]
    },
    {
     "data": {
      "text/plain": [
       "<keras.src.callbacks.History at 0x7f3fc4b53d90>"
      ]
     },
     "execution_count": 62,
     "metadata": {},
     "output_type": "execute_result"
    }
   ],
   "source": [
    "plot_validation_loss = PlotValidationLoss(bin_factor)\n",
    "# Train the model\n",
    "epochs,batch_size=150, 64\n",
    "model.fit(X_train, y_train, epochs=epochs,validation_split=0.05, batch_size=batch_size)\n",
    "#model.fit(X_train, y_train, epochs=epochs, batch_size=batch_size, validation_data=(X_val, y_val))"
   ]
  },
  {
   "cell_type": "code",
   "execution_count": 86,
   "id": "500432a6-6f5f-41ea-bc20-0ceb3c47e461",
   "metadata": {
    "tags": []
   },
   "outputs": [
    {
     "name": "stdout",
     "output_type": "stream",
     "text": [
      "156/156 [==============================] - 0s 2ms/step\n"
     ]
    }
   ],
   "source": [
    "prediction = model.predict(X_test, batch_size=1)"
   ]
  },
  {
   "cell_type": "code",
   "execution_count": 85,
   "id": "06b60f42-ed23-4665-b589-182e442c55f6",
   "metadata": {},
   "outputs": [],
   "source": [
    "X_test=X_test.reshape((-1,500,1))"
   ]
  },
  {
   "cell_type": "code",
   "execution_count": 84,
   "id": "4ad7e28f-7281-476c-8f5b-8d0a91251dd6",
   "metadata": {},
   "outputs": [],
   "source": [
    "X_test=X_test[:,:39000]"
   ]
  },
  {
   "cell_type": "code",
   "execution_count": 87,
   "id": "fbaf61d7-5f8d-4abd-92d7-729f6e73851f",
   "metadata": {},
   "outputs": [
    {
     "ename": "ValueError",
     "evalue": "Data cardinality is ambiguous:\n  x sizes: 156\n  y sizes: 39322\nMake sure all arrays contain the same number of samples.",
     "output_type": "error",
     "traceback": [
      "\u001b[0;31m---------------------------------------------------------------------------\u001b[0m",
      "\u001b[0;31mValueError\u001b[0m                                Traceback (most recent call last)",
      "Input \u001b[0;32mIn [87]\u001b[0m, in \u001b[0;36m<cell line: 2>\u001b[0;34m()\u001b[0m\n\u001b[1;32m      1\u001b[0m \u001b[38;5;66;03m# Evaluate the model\u001b[39;00m\n\u001b[0;32m----> 2\u001b[0m test_loss, test_acc \u001b[38;5;241m=\u001b[39m \u001b[43mmodel\u001b[49m\u001b[38;5;241;43m.\u001b[39;49m\u001b[43mevaluate\u001b[49m\u001b[43m(\u001b[49m\u001b[43mX_test\u001b[49m\u001b[43m,\u001b[49m\u001b[43m \u001b[49m\u001b[43my_test\u001b[49m\u001b[43m)\u001b[49m\n\u001b[1;32m      4\u001b[0m \u001b[38;5;66;03m# Make predictions\u001b[39;00m\n\u001b[1;32m      5\u001b[0m predictions \u001b[38;5;241m=\u001b[39m model\u001b[38;5;241m.\u001b[39mpredict(y_test)\n",
      "File \u001b[0;32m~/anaconda3/lib/python3.9/site-packages/keras/src/utils/traceback_utils.py:70\u001b[0m, in \u001b[0;36mfilter_traceback.<locals>.error_handler\u001b[0;34m(*args, **kwargs)\u001b[0m\n\u001b[1;32m     67\u001b[0m     filtered_tb \u001b[38;5;241m=\u001b[39m _process_traceback_frames(e\u001b[38;5;241m.\u001b[39m__traceback__)\n\u001b[1;32m     68\u001b[0m     \u001b[38;5;66;03m# To get the full stack trace, call:\u001b[39;00m\n\u001b[1;32m     69\u001b[0m     \u001b[38;5;66;03m# `tf.debugging.disable_traceback_filtering()`\u001b[39;00m\n\u001b[0;32m---> 70\u001b[0m     \u001b[38;5;28;01mraise\u001b[39;00m e\u001b[38;5;241m.\u001b[39mwith_traceback(filtered_tb) \u001b[38;5;28;01mfrom\u001b[39;00m \u001b[38;5;28mNone\u001b[39m\n\u001b[1;32m     71\u001b[0m \u001b[38;5;28;01mfinally\u001b[39;00m:\n\u001b[1;32m     72\u001b[0m     \u001b[38;5;28;01mdel\u001b[39;00m filtered_tb\n",
      "File \u001b[0;32m~/anaconda3/lib/python3.9/site-packages/keras/src/engine/data_adapter.py:1960\u001b[0m, in \u001b[0;36m_check_data_cardinality\u001b[0;34m(data)\u001b[0m\n\u001b[1;32m   1953\u001b[0m     msg \u001b[38;5;241m+\u001b[39m\u001b[38;5;241m=\u001b[39m \u001b[38;5;124m\"\u001b[39m\u001b[38;5;124m  \u001b[39m\u001b[38;5;132;01m{}\u001b[39;00m\u001b[38;5;124m sizes: \u001b[39m\u001b[38;5;132;01m{}\u001b[39;00m\u001b[38;5;130;01m\\n\u001b[39;00m\u001b[38;5;124m\"\u001b[39m\u001b[38;5;241m.\u001b[39mformat(\n\u001b[1;32m   1954\u001b[0m         label,\n\u001b[1;32m   1955\u001b[0m         \u001b[38;5;124m\"\u001b[39m\u001b[38;5;124m, \u001b[39m\u001b[38;5;124m\"\u001b[39m\u001b[38;5;241m.\u001b[39mjoin(\n\u001b[1;32m   1956\u001b[0m             \u001b[38;5;28mstr\u001b[39m(i\u001b[38;5;241m.\u001b[39mshape[\u001b[38;5;241m0\u001b[39m]) \u001b[38;5;28;01mfor\u001b[39;00m i \u001b[38;5;129;01min\u001b[39;00m tf\u001b[38;5;241m.\u001b[39mnest\u001b[38;5;241m.\u001b[39mflatten(single_data)\n\u001b[1;32m   1957\u001b[0m         ),\n\u001b[1;32m   1958\u001b[0m     )\n\u001b[1;32m   1959\u001b[0m msg \u001b[38;5;241m+\u001b[39m\u001b[38;5;241m=\u001b[39m \u001b[38;5;124m\"\u001b[39m\u001b[38;5;124mMake sure all arrays contain the same number of samples.\u001b[39m\u001b[38;5;124m\"\u001b[39m\n\u001b[0;32m-> 1960\u001b[0m \u001b[38;5;28;01mraise\u001b[39;00m \u001b[38;5;167;01mValueError\u001b[39;00m(msg)\n",
      "\u001b[0;31mValueError\u001b[0m: Data cardinality is ambiguous:\n  x sizes: 156\n  y sizes: 39322\nMake sure all arrays contain the same number of samples."
     ]
    }
   ],
   "source": [
    "# Evaluate the model\n",
    "test_loss, test_acc = model.evaluate(X_test, y_test)\n",
    "\n",
    "# Make predictions\n",
    "predictions = model.predict(y_test)"
   ]
  },
  {
   "cell_type": "code",
   "execution_count": null,
   "id": "23738830-9fc2-4ce8-a2df-41043713b978",
   "metadata": {},
   "outputs": [],
   "source": [
    "# Optionally, save the model\n",
    "model.save('CNN_model_'+str(bin_factor)+'.h5')\n",
    "\n",
    "# Save the test accuracy in a text file\n",
    "with open('CNN_model_'+str(bin_factor)+'_test_accuracy_and_parameters.txt', 'w') as f:\n",
    "    f.write(f'Test Accuracy: {test_acc:.4f} \\n')\n",
    "    f.write('____________________________\\n')\n",
    "    f.write('Model Architecture:\\n\\n')\n",
    "    model.summary(print_fn=lambda x: f.write(x + '\\n'))"
   ]
  }
 ],
 "metadata": {
  "kernelspec": {
   "display_name": "Python 3 (ipykernel)",
   "language": "python",
   "name": "python3"
  },
  "language_info": {
   "codemirror_mode": {
    "name": "ipython",
    "version": 3
   },
   "file_extension": ".py",
   "mimetype": "text/x-python",
   "name": "python",
   "nbconvert_exporter": "python",
   "pygments_lexer": "ipython3",
   "version": "3.9.12"
  }
 },
 "nbformat": 4,
 "nbformat_minor": 5
}
